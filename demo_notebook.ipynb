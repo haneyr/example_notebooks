{
 "cells": [
  {
   "cell_type": "code",
   "execution_count": null,
   "metadata": {
    "colab": {},
    "colab_type": "code",
    "id": "1N6alxijTDDG"
   },
   "outputs": [],
   "source": [
    "from google.cloud import _http\n",
    "from google.cloud.client import ClientWithProject\n",
    "from google.cloud import language\n",
    "\n",
    "import jsonlines\n",
    "import json"
   ]
  },
  {
   "cell_type": "code",
   "execution_count": null,
   "metadata": {},
   "outputs": [],
   "source": [
    "project_id = '' #Your Google cloud project ID\n",
    "region_id = 'us-central1' #note that the HC NLP API is currently available in us-central1 and europe-west4"
   ]
  },
  {
   "cell_type": "code",
   "execution_count": null,
   "metadata": {},
   "outputs": [],
   "source": [
    "#Build classes for the NLP API object\n",
    "\n",
    "class Connection(_http.JSONConnection):\n",
    "  \"\"\"Handles HTTP requests to GCP.\"\"\"\n",
    "  API_BASE_URL = 'https://healthcare.googleapis.com'\n",
    "  API_VERSION = 'v1beta1'\n",
    "  API_URL_TEMPLATE = '{api_base_url}/{api_version}/projects{path}'\n",
    "      \n",
    "class Client(ClientWithProject):\n",
    "  \"\"\"A client for accessing Cloud Healthcare NLP API.\n",
    "\n",
    "  Args:\n",
    "      project (Union[str, None]): The ID of the project\n",
    "      region (str): The region the project resides in, e.g. us-central1,\n",
    "  \"\"\"\n",
    "\n",
    "  def __init__(self,\n",
    "               project=None,\n",
    "               region=region_id,\n",
    "               credentials=None,\n",
    "               http=None):\n",
    "    self.region = region\n",
    "    self.SCOPE = ('https://www.googleapis.com/auth/cloud-healthcare',)\n",
    "    super(Client, self).__init__(project=project_id)\n",
    "    self.path = '/{}/locations/{}/services/nlp'.format(self.project,\n",
    "                                                       self.region)\n",
    "    self._connection = Connection(self)\n",
    "\n",
    "  def analyze_entities(self, document):\n",
    "    \"\"\" Analyze the clinical entities a document with the Google Cloud\n",
    "\n",
    "      Healthcare NLP API.\n",
    "\n",
    "      Args:\n",
    "        document (str): the medical document to analyze.\n",
    "\n",
    "      Returns:\n",
    "        Dict[str, Any]: the JSON response.\n",
    "      \"\"\"\n",
    "    return self._connection.api_request(\n",
    "        'POST',\n",
    "        self.path + ':analyzeEntities',\n",
    "        data={'document_content': document})"
   ]
  },
  {
   "cell_type": "code",
   "execution_count": null,
   "metadata": {
    "colab": {},
    "colab_type": "code",
    "id": "WTTYcn1NXfkM"
   },
   "outputs": [],
   "source": [
    "client_hc_nlp = Client(project=project_id)"
   ]
  },
  {
   "cell_type": "code",
   "execution_count": null,
   "metadata": {},
   "outputs": [],
   "source": [
    "verbatims = []\n",
    "with jsonlines.open('filename.jsonl') as f:\n",
    "    for line in f.iter():\n",
    "        verbatims.append(line[\"<<EXAMPLE_STRING>>\"])  "
   ]
  },
  {
   "cell_type": "code",
   "execution_count": null,
   "metadata": {
    "colab": {},
    "colab_type": "code",
    "id": "dlATsrpIe89R"
   },
   "outputs": [],
   "source": [
    "for verbatim in verbatims:\n",
    "    response = client_hc_nlp.analyze_entities(verbatim)\n",
    "    data = json.dumps(response)\n",
    "    print(data)"
   ]
  }
 ],
 "metadata": {
  "colab": {
   "collapsed_sections": [],
   "name": "NLP API Colab",
   "provenance": [
    {
     "file_id": "1WyysIMSSAtdIkfdPc1lrPZfRCYFU7t9C",
     "timestamp": 1596663031253
    }
   ]
  },
  "environment": {
   "name": "common-cpu.mnightly-2021-01-20-debian-10-test",
   "type": "gcloud",
   "uri": "gcr.io/deeplearning-platform-release/base-cpu:mnightly-2021-01-20-debian-10-test"
  },
  "kernelspec": {
   "display_name": "Python 3",
   "language": "python",
   "name": "python3"
  },
  "language_info": {
   "codemirror_mode": {
    "name": "ipython",
    "version": 3
   },
   "file_extension": ".py",
   "mimetype": "text/x-python",
   "name": "python",
   "nbconvert_exporter": "python",
   "pygments_lexer": "ipython3",
   "version": "3.7.9"
  }
 },
 "nbformat": 4,
 "nbformat_minor": 4
}
